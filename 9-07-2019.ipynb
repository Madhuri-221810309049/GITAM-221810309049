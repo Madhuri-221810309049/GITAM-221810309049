{
 "cells": [
  {
   "cell_type": "markdown",
   "metadata": {},
   "source": [
    "### Day objectives\n",
    "- python data structures\n",
    "- lists\n",
    "- tuples\n",
    "- Dictionaries\n",
    "* Basic program sets on data structures\n",
    "* Advanced problem set\n",
    "* contact application(Dictionary object)\n",
    "#### Data structures:\n",
    "* To store,search and sort the data "
   ]
  },
  {
   "cell_type": "markdown",
   "metadata": {},
   "source": [
    "### Python Data structures\n",
    "#### Lists\n",
    "* It's one of common data structures supports by python ,the list items are seperated by comma operator and enclosed in       square brackets.\n",
    "* Example:\n",
    "     - list1[1,6,2,18,9]\n",
    "     - List2[\"GITAM\",10,12,15,5,\"Hyderabad\"]"
   ]
  },
  {
   "cell_type": "code",
   "execution_count": 1,
   "metadata": {},
   "outputs": [
    {
     "name": "stdout",
     "output_type": "stream",
     "text": [
      "[1, 8, 16, 9, 2]\n",
      "1\n",
      "8\n",
      "2\n",
      "9\n",
      "[8, 16, 9, 2]\n",
      "[8, 16, 9]\n"
     ]
    }
   ],
   "source": [
    "lst=[1,8,16,9,2] # creating the list object in python\n",
    "print(lst) # Access the entire list\n",
    "print(lst[0]) # acess the first item of list\n",
    "print(lst[1]) # Acess the second item of list\n",
    "print(lst[-1])  \n",
    "print(lst[-2])\n",
    "print(lst[1:])\n",
    "print(lst[1:4])"
   ]
  },
  {
   "cell_type": "code",
   "execution_count": 2,
   "metadata": {},
   "outputs": [
    {
     "name": "stdout",
     "output_type": "stream",
     "text": [
      "['Gitam', 'Python', 1989, 2002]\n",
      "['Gitam', 'Python', 2019, 2002]\n"
     ]
    }
   ],
   "source": [
    "# update the list item values using index\n",
    "li=[\"Gitam\",\"Python\",1989,2002]\n",
    "print(li)\n",
    "li[2]=2019\n",
    "print(li)"
   ]
  },
  {
   "cell_type": "code",
   "execution_count": 3,
   "metadata": {},
   "outputs": [
    {
     "name": "stdout",
     "output_type": "stream",
     "text": [
      "['Gitam', 'Python', 2019, 2002]\n",
      "['Gitam', 'Python', 2002]\n"
     ]
    }
   ],
   "source": [
    "# Delete the specific item in the list\n",
    "print(li)\n",
    "del(li[2])\n",
    "print(li)"
   ]
  },
  {
   "cell_type": "code",
   "execution_count": 6,
   "metadata": {},
   "outputs": [
    {
     "name": "stdout",
     "output_type": "stream",
     "text": [
      "5\n",
      "[1, 9, 6, 18, 2, 1, 9, 6, 18, 2]\n",
      "5\n",
      "True\n",
      "False\n",
      "1 9 6 18 2 "
     ]
    }
   ],
   "source": [
    "# Basic list operations\n",
    "lst1=[1,9,6,18,2]\n",
    "print(len(lst1)) # length of the list\n",
    "print(lst1*2) # Repetation\n",
    "print(len(lst1))\n",
    "print(9 in lst1) # List item is present or not\n",
    "print(15 in lst1)\n",
    "# Acess the list items using iteration\n",
    "for x in range(len(lst1)):\n",
    "    print(lst1[x],end=\" \")"
   ]
  },
  {
   "cell_type": "code",
   "execution_count": 8,
   "metadata": {},
   "outputs": [
    {
     "name": "stdout",
     "output_type": "stream",
     "text": [
      "1\n",
      "18\n",
      "36\n",
      "7\n",
      "13.5\n"
     ]
    }
   ],
   "source": [
    "# Function of the list\n",
    "lst1\n",
    "print(min(lst1))\n",
    "print(max(lst1))\n",
    "print(sum(lst1))\n",
    "print(sum(lst1)//len(lst1)) # average of the list\n",
    "print(sum(lst1[1::2])/len(lst1[1::2])) # Average of alternate numbers in the list\n"
   ]
  },
  {
   "cell_type": "code",
   "execution_count": 12,
   "metadata": {},
   "outputs": [
    {
     "data": {
      "text/plain": [
       "1"
      ]
     },
     "execution_count": 12,
     "metadata": {},
     "output_type": "execute_result"
    }
   ],
   "source": [
    "lst1\n",
    "lst1.append(24) # Adding a new element at the end of the list\n",
    "lst1\n",
    "lst1.insert(2,56) # Adding an element at particular index\n",
    "lst1\n",
    "lst1.count(18) # Return the value how many times the object repeated\n",
    "lst1.index(56)\n",
    "lst1\n",
    "lst1.sort() # it sort the list in ascending order\n",
    "lst1\n",
    "lst1.pop() # Remove the last element from the list\n",
    "list1\n",
    "lst1.pop(1) # Remove the element from particular index\n",
    "\n"
   ]
  },
  {
   "cell_type": "code",
   "execution_count": 14,
   "metadata": {},
   "outputs": [
    {
     "data": {
      "text/plain": [
       "6"
      ]
     },
     "execution_count": 14,
     "metadata": {},
     "output_type": "execute_result"
    }
   ],
   "source": [
    "# Function to find the second large item from the list\n",
    "def secondlarge(li):\n",
    "    li.sort()\n",
    "    return li[-2]\n",
    "def genericlarge(li,n):\n",
    "    li.sort()\n",
    "    return li[-n] \n",
    "li=[1,19,6,2,8,18,3]\n",
    "secondlarge(li)\n",
    "genericlarge(li,4)"
   ]
  },
  {
   "cell_type": "code",
   "execution_count": 20,
   "metadata": {},
   "outputs": [
    {
     "data": {
      "text/plain": [
       "6"
      ]
     },
     "execution_count": 20,
     "metadata": {},
     "output_type": "execute_result"
    }
   ],
   "source": [
    "# Function to find the least item from the list\n",
    "def secondleast(li):\n",
    "    li.sort()\n",
    "    return li[1]\n",
    "secondleast(li)\n",
    "def genericleast(li,n):\n",
    "    li.sort()\n",
    "    return li[n-1] \n",
    "li=[1,19,6,2,8,18,3]\n",
    "genericleast(li,4)\n"
   ]
  },
  {
   "cell_type": "code",
   "execution_count": null,
   "metadata": {},
   "outputs": [],
   "source": []
  }
 ],
 "metadata": {
  "kernelspec": {
   "display_name": "Python 3",
   "language": "python",
   "name": "python3"
  },
  "language_info": {
   "codemirror_mode": {
    "name": "ipython",
    "version": 3
   },
   "file_extension": ".py",
   "mimetype": "text/x-python",
   "name": "python",
   "nbconvert_exporter": "python",
   "pygments_lexer": "ipython3",
   "version": "3.7.3"
  }
 },
 "nbformat": 4,
 "nbformat_minor": 2
}
