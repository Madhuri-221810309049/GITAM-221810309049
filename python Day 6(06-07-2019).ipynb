{
 "cells": [
  {
   "cell_type": "markdown",
   "metadata": {},
   "source": [
    "### Iteration statements\n",
    "* While\n",
    "* for\n",
    "syntax:\n",
    "   * while boolean_condition:<br>\n",
    "    statements<br>\n",
    "    Increment/Decrement"
   ]
  },
  {
   "cell_type": "code",
   "execution_count": 1,
   "metadata": {},
   "outputs": [
    {
     "name": "stdout",
     "output_type": "stream",
     "text": [
      "Gitam\n",
      "Gitam\n",
      "Gitam\n",
      "Gitam\n",
      "Gitam\n"
     ]
    }
   ],
   "source": [
    "# print \"Gitam\" for five times\n",
    "x=0\n",
    "while x<5:\n",
    "    print(\"Gitam\")\n",
    "    x=x+1"
   ]
  },
  {
   "cell_type": "code",
   "execution_count": 2,
   "metadata": {},
   "outputs": [
    {
     "name": "stdout",
     "output_type": "stream",
     "text": [
      "1\n",
      "2\n",
      "3\n",
      "4\n",
      "5\n",
      "6\n",
      "7\n",
      "8\n",
      "9\n",
      "10\n"
     ]
    }
   ],
   "source": [
    "# print N natural numbers using while loop\n",
    "x=1\n",
    "while x<=10:\n",
    "    print(x)\n",
    "    x=x+1\n",
    "    "
   ]
  },
  {
   "cell_type": "code",
   "execution_count": 17,
   "metadata": {},
   "outputs": [
    {
     "name": "stdout",
     "output_type": "stream",
     "text": [
      "n:4\n",
      "6\n"
     ]
    }
   ],
   "source": [
    "n=int(input(\"n:\"))\n",
    "s=0\n",
    "a=1\n",
    "while a<=n:\n",
    "    if(a%2==0):\n",
    "        s=s+a\n",
    "    a=a+1\n",
    "print(s)"
   ]
  },
  {
   "cell_type": "code",
   "execution_count": 11,
   "metadata": {},
   "outputs": [
    {
     "name": "stdout",
     "output_type": "stream",
     "text": [
      "enter a number1234\n",
      "4\n",
      "3\n",
      "2\n",
      "1\n"
     ]
    }
   ],
   "source": [
    "# Number as a number - - 123\n",
    "# print the digits of agiven number :3 2 1\n",
    "n=int(input(\"enter a number\"))\n",
    "while n>0:\n",
    "    x=n%10\n",
    "    print(x)\n",
    "    n=n//10\n",
    "\n",
    "        \n",
    "    "
   ]
  },
  {
   "cell_type": "markdown",
   "metadata": {},
   "source": [
    "### Functional programming\n",
    "* simple\n",
    "* Easy read\n",
    "* Lengthy program divides into sub programs"
   ]
  },
  {
   "cell_type": "code",
   "execution_count": null,
   "metadata": {},
   "outputs": [],
   "source": [
    "def name of the function(<parameters>):\n",
    "    statement\n",
    "    return"
   ]
  },
  {
   "cell_type": "code",
   "execution_count": null,
   "metadata": {},
   "outputs": [],
   "source": [
    "# Read a number --1234\n",
    "# Output --6(2+4)\n",
    "def addEvenDigits(n):\n",
    "    #statements to compute of the program\n",
    "    return\n",
    "addEvenDigits"
   ]
  },
  {
   "cell_type": "code",
   "execution_count": 3,
   "metadata": {},
   "outputs": [
    {
     "data": {
      "text/plain": [
       "6"
      ]
     },
     "execution_count": 3,
     "metadata": {},
     "output_type": "execute_result"
    }
   ],
   "source": [
    "\n",
    "def addEvenDigits(n):\n",
    "    sum=0\n",
    "    while n>0:\n",
    "        r=n%10\n",
    "        if r%2==0:\n",
    "            sum=sum+r\n",
    "        n=n//10\n",
    "    return(sum)\n",
    "addEvenDigits(1234)"
   ]
  },
  {
   "cell_type": "code",
   "execution_count": null,
   "metadata": {},
   "outputs": [],
   "source": [
    "# READ A NUMBER--19528\n",
    "# print the large digit print\n",
    "def printLarge(n)\n",
    "    return\n",
    "printlarge(19528)"
   ]
  },
  {
   "cell_type": "code",
   "execution_count": 8,
   "metadata": {},
   "outputs": [
    {
     "data": {
      "text/plain": [
       "9"
      ]
     },
     "execution_count": 8,
     "metadata": {},
     "output_type": "execute_result"
    }
   ],
   "source": [
    "def printLarge(n):\n",
    "    large=0\n",
    "    while n>0:\n",
    "        r=n%10\n",
    "        if large<r:\n",
    "            large=r\n",
    "        n=n//10\n",
    "    return large\n",
    "printLarge(19528)"
   ]
  },
  {
   "cell_type": "code",
   "execution_count": null,
   "metadata": {},
   "outputs": [],
   "source": [
    "# Read a number\n",
    "# output reverse of the given number\n",
    "# 123 - - 321\n",
    "def reverseNumber(n):\n",
    "    return\n",
    "reverseNumber(123)\n",
    "                "
   ]
  },
  {
   "cell_type": "code",
   "execution_count": 13,
   "metadata": {},
   "outputs": [
    {
     "name": "stdout",
     "output_type": "stream",
     "text": [
      "321\n",
      "7852\n"
     ]
    }
   ],
   "source": [
    "def reverseNumber(n):\n",
    "    rev=0\n",
    "    while n>0:\n",
    "        x=n%10\n",
    "        rev=rev*10+x\n",
    "        n=n//10\n",
    "    return rev\n",
    "print(reverseNumber(123))\n",
    "print(reverseNumber(2587))\n"
   ]
  },
  {
   "cell_type": "code",
   "execution_count": 18,
   "metadata": {},
   "outputs": [
    {
     "name": "stdout",
     "output_type": "stream",
     "text": [
      "enter a number123\n",
      "Not palindrome\n"
     ]
    }
   ],
   "source": [
    "# Given number is palindrome or not\n",
    "def palindrome():\n",
    "    n=int(input(\"enter a number\"))\n",
    "    temp=n\n",
    "    rev=0\n",
    "    while n>0:\n",
    "        x=n%10\n",
    "        rev=rev*10+x\n",
    "        n=n//10\n",
    "    if temp==rev:\n",
    "            print(\"Is palindrome\")\n",
    "    else:\n",
    "            print(\"Not palindrome\")\n",
    "         \n",
    "palindrome()         "
   ]
  },
  {
   "cell_type": "markdown",
   "metadata": {},
   "source": [
    "#### function to print  N  natural numbers using for loop"
   ]
  },
  {
   "cell_type": "code",
   "execution_count": 19,
   "metadata": {},
   "outputs": [
    {
     "name": "stdout",
     "output_type": "stream",
     "text": [
      "1 2 3 4 5 6 7 8 9 10 "
     ]
    }
   ],
   "source": [
    "def printNaturalNumber(n):\n",
    "    for x in range(1,n+1):\n",
    "        print(x,end=\" \")\n",
    "    return\n",
    "printNaturalNumber(10)\n",
    "                \n",
    "  \n",
    "                    "
   ]
  },
  {
   "cell_type": "code",
   "execution_count": 23,
   "metadata": {},
   "outputs": [
    {
     "name": "stdout",
     "output_type": "stream",
     "text": [
      "11 12 13 14 15 16 17 18 19 20 21 22 23 24 25 "
     ]
    }
   ],
   "source": [
    "# Function to print the numbers between two limits\n",
    "#input : 11,25\n",
    "#outpuut:11,12,13,14.......25\n",
    "def printseries(lb,ub):\n",
    "    for x in range(lb,ub+1):\n",
    "        print(x,end=\" \")\n",
    "    return\n",
    "printseries(11,25)"
   ]
  },
  {
   "cell_type": "code",
   "execution_count": 25,
   "metadata": {},
   "outputs": [
    {
     "name": "stdout",
     "output_type": "stream",
     "text": [
      "11 13 15 17 19 21 23 25 "
     ]
    }
   ],
   "source": [
    "# function to print alternate numbers\n",
    "def alternatenumbers(lb,ub):\n",
    "    for x in range(lb,ub+1,2):\n",
    "        print(x,end=\" \")\n",
    "    return\n",
    "alternatenumbers(11,25)\n",
    "    \n",
    "   "
   ]
  },
  {
   "cell_type": "code",
   "execution_count": 26,
   "metadata": {},
   "outputs": [
    {
     "name": "stdout",
     "output_type": "stream",
     "text": [
      "10 9 8 7 6 5 4 3 2 1 "
     ]
    }
   ],
   "source": [
    "# function to print the series in reverse\n",
    "def reverseRange(start,end):\n",
    "    for x in range(end,start-1,-1):\n",
    "        print(x,end=\" \")\n",
    "    return   \n",
    "reverseRange(1,10)"
   ]
  },
  {
   "cell_type": "code",
   "execution_count": null,
   "metadata": {},
   "outputs": [],
   "source": []
  }
 ],
 "metadata": {
  "kernelspec": {
   "display_name": "Python 3",
   "language": "python",
   "name": "python3"
  }
 },
 "nbformat": 4,
 "nbformat_minor": 2
}
